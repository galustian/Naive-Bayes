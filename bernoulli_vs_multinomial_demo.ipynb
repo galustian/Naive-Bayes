{
 "cells": [
  {
   "cell_type": "markdown",
   "metadata": {},
   "source": [
    "# Bernoulli vs Multinomial random variables?\n",
    "This Notebook compares bernoulli and multinomial Naive Bayes classifiers in terms of their prediction accuracy when it comes to text-classification.\n",
    "The MultinomialNB algorithm implements my own binomial-prediction algorithm, which improves the prediction accuracy as we shall see...\n",
    "\n",
    "An SMS spam dataset is going to be used for classification & prediction."
   ]
  },
  {
   "cell_type": "code",
   "execution_count": 113,
   "metadata": {},
   "outputs": [],
   "source": [
    "import numpy as np\n",
    "import pandas as pd\n",
    "from BernoulliNB import BernoulliNB\n",
    "from MultinomialNB import MultinomialNB"
   ]
  },
  {
   "cell_type": "markdown",
   "metadata": {},
   "source": [
    "## Load data"
   ]
  },
  {
   "cell_type": "code",
   "execution_count": 114,
   "metadata": {},
   "outputs": [],
   "source": [
    "df = pd.read_csv('spam.csv', encoding='ISO-8859-1')\n",
    "df = df.loc[:, ['v1', 'v2']].sample(frac=1)\n",
    "df['v1'] = df['v1'].map({'ham': 0, 'spam': 1})"
   ]
  },
  {
   "cell_type": "code",
   "execution_count": 115,
   "metadata": {},
   "outputs": [
    {
     "data": {
      "text/html": [
       "<div>\n",
       "<style scoped>\n",
       "    .dataframe tbody tr th:only-of-type {\n",
       "        vertical-align: middle;\n",
       "    }\n",
       "\n",
       "    .dataframe tbody tr th {\n",
       "        vertical-align: top;\n",
       "    }\n",
       "\n",
       "    .dataframe thead th {\n",
       "        text-align: right;\n",
       "    }\n",
       "</style>\n",
       "<table border=\"1\" class=\"dataframe\">\n",
       "  <thead>\n",
       "    <tr style=\"text-align: right;\">\n",
       "      <th></th>\n",
       "      <th>v1</th>\n",
       "      <th>v2</th>\n",
       "    </tr>\n",
       "  </thead>\n",
       "  <tbody>\n",
       "    <tr>\n",
       "      <th>1795</th>\n",
       "      <td>0</td>\n",
       "      <td>I hope your alright babe? I worry that you mig...</td>\n",
       "    </tr>\n",
       "    <tr>\n",
       "      <th>277</th>\n",
       "      <td>0</td>\n",
       "      <td>Awesome, I'll see you in a bit</td>\n",
       "    </tr>\n",
       "    <tr>\n",
       "      <th>2926</th>\n",
       "      <td>0</td>\n",
       "      <td>Ok... U enjoy ur shows...</td>\n",
       "    </tr>\n",
       "    <tr>\n",
       "      <th>901</th>\n",
       "      <td>0</td>\n",
       "      <td>How is it possible to teach you. And where.</td>\n",
       "    </tr>\n",
       "    <tr>\n",
       "      <th>2075</th>\n",
       "      <td>0</td>\n",
       "      <td>Must come later.. I normally bathe him in da a...</td>\n",
       "    </tr>\n",
       "  </tbody>\n",
       "</table>\n",
       "</div>"
      ],
      "text/plain": [
       "      v1                                                 v2\n",
       "1795   0  I hope your alright babe? I worry that you mig...\n",
       "277    0                     Awesome, I'll see you in a bit\n",
       "2926   0                          Ok... U enjoy ur shows...\n",
       "901    0        How is it possible to teach you. And where.\n",
       "2075   0  Must come later.. I normally bathe him in da a..."
      ]
     },
     "execution_count": 115,
     "metadata": {},
     "output_type": "execute_result"
    }
   ],
   "source": [
    "df.head()"
   ]
  },
  {
   "cell_type": "markdown",
   "metadata": {},
   "source": [
    "## Create train-test splits"
   ]
  },
  {
   "cell_type": "code",
   "execution_count": 116,
   "metadata": {},
   "outputs": [],
   "source": [
    "X = []\n",
    "Y = []\n",
    "for _, row in df.iterrows():\n",
    "    X.append(row['v2'])\n",
    "    Y.append(row['v1'])\n",
    "Y = np.array(Y)"
   ]
  },
  {
   "cell_type": "code",
   "execution_count": 117,
   "metadata": {},
   "outputs": [],
   "source": [
    "total_samples = len(df)\n",
    "\n",
    "train_size = 2/3\n",
    "num_train = int(len(X)*train_size)\n",
    "\n",
    "X_train, X_test = X[:num_train], X[num_train:]\n",
    "Y_train, Y_test = Y[:num_train], Y[num_train:]"
   ]
  },
  {
   "cell_type": "markdown",
   "metadata": {},
   "source": [
    "## Train both classifiers"
   ]
  },
  {
   "cell_type": "code",
   "execution_count": 118,
   "metadata": {},
   "outputs": [],
   "source": [
    "NB_Bernoulli = BernoulliNB()\n",
    "NB_Multinomial = MultinomialNB()\n",
    "\n",
    "NB_Bernoulli.train(X_train, Y_train, text_data=True)\n",
    "NB_Multinomial.train(X_train, Y_train, text_data=True)"
   ]
  },
  {
   "cell_type": "markdown",
   "metadata": {},
   "source": [
    "## Test both classifiers"
   ]
  },
  {
   "cell_type": "code",
   "execution_count": 139,
   "metadata": {},
   "outputs": [
    {
     "name": "stdout",
     "output_type": "stream",
     "text": [
      "Mulitnomial error: classified spam instead of ok\n",
      "Text: Tiwary to rcb.battle between bang and kochi. \n",
      "\n",
      "Mulitnomial error: classified spam instead of ok\n",
      "Text: Gibbs unsold.mike hussey \n",
      "\n",
      "Mulitnomial error: classified ok instead of spam\n",
      "Text: Guess who am I?This is the first time I created a web page WWW.ASJESUS.COM read all I wrote. I'm waiting for your opinions. I want to be your friend 1/1 \n",
      "\n",
      "Mulitnomial error: classified spam instead of ok\n",
      "Text: As per your request 'Melle Melle (Oru Minnaminunginte Nurungu Vettam)' has been set as your callertune for all Callers. Press *9 to copy your friends Callertune \n",
      "\n",
      "Mulitnomial error: classified spam instead of ok\n",
      "Text: Hi Shanil,Rakhesh here.thanks,i have exchanged the uncut diamond stuff.leaving back. Excellent service by Dino and Prem. \n",
      "\n",
      "Bernoulli error: classified ok instead of spam\n",
      "Text: Hello darling how are you today? I would love to have a chat, why dont you tell me what you look like and what you are in to sexy? \n",
      "\n",
      "Mulitnomial error: classified ok instead of spam\n",
      "Text: Hello darling how are you today? I would love to have a chat, why dont you tell me what you look like and what you are in to sexy? \n",
      "\n",
      "Mulitnomial error: classified spam instead of ok\n",
      "Text: WHEN THE FIRST STRIKE IS A RED ONE. THE BIRD + ANTELOPE BEGIN TOPLAY IN THE FIELDOF SELFINDEPENDENCE BELIEVE THIS + THE FLOWER OF CONTENTION WILL GROW.RANDOM! \n",
      "\n",
      "Mulitnomial error: classified spam instead of ok\n",
      "Text: No..its ful of song lyrics.. \n",
      "\n",
      "Mulitnomial error: classified ok instead of spam\n",
      "Text: How come it takes so little time for a child who is afraid of the dark to become a teenager who wants to stay out all night? \n",
      "\n",
      "Mulitnomial error: classified spam instead of ok\n",
      "Text: V nice! Off 2 sheffield tom 2 air my opinions on categories 2 b used 2 measure ethnicity in next census. Busy transcribing. :-) \n",
      "\n",
      "Mulitnomial error: classified spam instead of ok\n",
      "Text: As per your request 'Melle Melle (Oru Minnaminunginte Nurungu Vettam)' has been set as your callertune for all Callers. Press *9 to copy your friends Callertune \n",
      "\n",
      "Mulitnomial error: classified spam instead of ok\n",
      "Text: The new deus ex game comin early next yr \n",
      "\n",
      "Mulitnomial error: classified spam instead of ok\n",
      "Text: Nokia phone is lovly.. \n",
      "\n",
      "Bernoulli error: classified spam instead of ok\n",
      "Text: Customer place i will call you. \n",
      "\n",
      "Mulitnomial error: classified spam instead of ok\n",
      "Text: Ujhhhhhhh computer shipped out with address to sandiago and parantella lane. Wtf. Poop. \n",
      "\n",
      "Mulitnomial error: classified spam instead of ok\n",
      "Text: Gd luck 4 ur exams :-) \n",
      "\n",
      "Mulitnomial error: classified spam instead of ok\n",
      "Text: Mind blastin.. No more Tsunamis will occur from now on.. Rajnikant stopped swimming in Indian Ocean..:-D \n",
      "\n",
      "Mulitnomial error: classified spam instead of ok\n",
      "Text: Total video converter free download type this in google search:) \n",
      "\n",
      "Mulitnomial error: classified spam instead of ok\n",
      "Text: Your pussy is perfect! \n",
      "\n",
      "Mulitnomial error: classified spam instead of ok\n",
      "Text: Hahaha..use your brain dear \n",
      "\n",
      "Mulitnomial error: classified spam instead of ok\n",
      "Text: Dhoni have luck to win some big title.so we will win:) \n",
      "\n",
      "Mulitnomial error: classified spam instead of ok\n",
      "Text: Am only searching for good dual sim mobile pa. \n",
      "\n",
      "Mulitnomial error: classified spam instead of ok\n",
      "Text: Dear, will call Tmorrow.pls accomodate. \n",
      "\n",
      "Mulitnomial error: classified spam instead of ok\n",
      "Text: They have a thread on the wishlist section of the forums where ppl post nitro requests. Start from the last page and collect from the bottom up. \n",
      "\n",
      "Mulitnomial error: classified spam instead of ok\n",
      "Text: My mobile number.pls sms ur mail id.convey regards to achan,amma.Rakhesh.Qatar \n",
      "\n",
      "Mulitnomial error: classified spam instead of ok\n",
      "Text: Have you laid your airtel line to rest? \n",
      "\n",
      "Mulitnomial error: classified spam instead of ok\n",
      "Text: Garbage bags, eggs, jam, bread, hannaford wheat chex \n",
      "\n",
      "Mulitnomial error: classified spam instead of ok\n",
      "Text: Yun ah.the ubi one say if Ì_ wan call by tomorrow.call 67441233 look for irene.ere only got bus8,22,65,61,66,382. Ubi cres,ubi tech park.6ph for 1st 5wkg days.Ì¬n \n",
      "\n",
      "Bernoulli error: classified spam instead of ok\n",
      "Text: Yavnt tried yet and never played original either \n",
      "\n",
      "Mulitnomial error: classified spam instead of ok\n",
      "Text: Yavnt tried yet and never played original either \n",
      "\n",
      "Mulitnomial error: classified spam instead of ok\n",
      "Text: Double eviction this week - Spiral and Michael and good riddance to them! \n",
      "\n",
      "Bernoulli error: classified spam instead of ok\n",
      "Text: Are you free now?can i call now? \n",
      "\n",
      "Mulitnomial error: classified spam instead of ok\n",
      "Text: K.k.how is your business now? \n",
      "\n",
      "Mulitnomial error: classified ok instead of spam\n",
      "Text: LIFE has never been this much fun and great until you came in. You made it truly special for me. I won't forget you! enjoy @ one gbp/sms \n",
      "\n",
      "Mulitnomial error: classified spam instead of ok\n",
      "Text: Update your face book status frequently :) \n",
      "\n",
      "Mulitnomial error: classified spam instead of ok\n",
      "Text: Yes.. now only saw your message.. \n",
      "\n",
      "Mulitnomial error: classified spam instead of ok\n",
      "Text: Im in inperialmusic listening2the weirdest track ever byåÓleafcutter johnåÓ-sounds like insects being molested&someone plumbing,remixed by evil men on acid! \n",
      "\n",
      "Mulitnomial error: classified spam instead of ok\n",
      "Text: Fighting with the world is easy, u either win or lose bt fightng with some1 who is close to u is dificult if u lose - u lose if u win - u still lose. \n",
      "\n",
      "Mulitnomial error: classified spam instead of ok\n",
      "Text: Nutter. Cutter. Ctter. Cttergg. Cttargg. Ctargg. Ctagg. ie you \n",
      "\n",
      "Mulitnomial error: classified spam instead of ok\n",
      "Text: Check mail.i have mailed varma and kept copy to you regarding membership.take care.insha allah. \n",
      "\n",
      "Mulitnomial error: classified spam instead of ok\n",
      "Text: Urgh, coach hot, smells of chip fat! Thanks again, especially for the duvet (not a predictive text word). \n",
      "\n",
      "Mulitnomial error: classified spam instead of ok\n",
      "Text: We have sent JD for Customer Service cum Accounts Executive to ur mail id, For details contact us \n",
      "\n"
     ]
    }
   ],
   "source": [
    "n_tests = len(X_test)\n",
    "\n",
    "bern_correct = 0\n",
    "multi_correct = 0\n",
    "\n",
    "label = [\"ok\", \"spam\"]\n",
    "\n",
    "for i in range(n_tests):\n",
    "    y = Y[i]\n",
    "    \n",
    "    y_hat_bern, _ = NB_Bernoulli.predict(X[i])\n",
    "    y_hat_multi = NB_Multinomial.predict(X[i])\n",
    "    \n",
    "    if y_hat_bern == y:\n",
    "        bern_correct += 1\n",
    "    else:\n",
    "        print(\"Bernoulli error: classified\", label[y_hat_bern], \"instead of\", label[y])\n",
    "        print(\"Text:\", X[i], \"\\n\")\n",
    "    if y_hat_multi == y:\n",
    "        multi_correct += 1\n",
    "    else:\n",
    "        print(\"Mulitnomial error: classified\", label[y_hat_multi], \"instead of\", label[y])\n",
    "        print(\"Text:\", X[i], \"\\n\")"
   ]
  },
  {
   "cell_type": "code",
   "execution_count": 140,
   "metadata": {},
   "outputs": [
    {
     "name": "stdout",
     "output_type": "stream",
     "text": [
      "Bernoulli accuracy: 0.9978471474703983\n",
      "Multinomial accuracy: 0.9790096878363832\n"
     ]
    }
   ],
   "source": [
    "print(\"Bernoulli accuracy:\", bern_correct / n_tests)\n",
    "print(\"Multinomial accuracy:\", multi_correct / n_tests)"
   ]
  },
  {
   "cell_type": "markdown",
   "metadata": {},
   "source": [
    "Both assumptions of bernoulli- and multinomial random variables yield very accurate prediction results. The BernoulliNB classifiers outperforms the MultinomialNB classifier by a slight margin.\n",
    "\n",
    "Now lets switch on binomial-prediction and change the smoothing parameter, which defaults to 1 (Laplace-Smoothing) and see if this affects the prediction accuracy of the MultinomialNB classifier."
   ]
  },
  {
   "cell_type": "code",
   "execution_count": 141,
   "metadata": {},
   "outputs": [
    {
     "name": "stdout",
     "output_type": "stream",
     "text": [
      "Mulitnomial error: classified spam instead of ok\n",
      "Text: Tiwary to rcb.battle between bang and kochi. \n",
      "\n",
      "Mulitnomial error: classified spam instead of ok\n",
      "Text: Gibbs unsold.mike hussey \n",
      "\n",
      "Mulitnomial error: classified ok instead of spam\n",
      "Text: Guess who am I?This is the first time I created a web page WWW.ASJESUS.COM read all I wrote. I'm waiting for your opinions. I want to be your friend 1/1 \n",
      "\n",
      "Mulitnomial error: classified spam instead of ok\n",
      "Text: Hi Shanil,Rakhesh here.thanks,i have exchanged the uncut diamond stuff.leaving back. Excellent service by Dino and Prem. \n",
      "\n",
      "Bernoulli error: classified ok instead of spam\n",
      "Text: Hello darling how are you today? I would love to have a chat, why dont you tell me what you look like and what you are in to sexy? \n",
      "\n",
      "Mulitnomial error: classified ok instead of spam\n",
      "Text: Hello darling how are you today? I would love to have a chat, why dont you tell me what you look like and what you are in to sexy? \n",
      "\n",
      "Mulitnomial error: classified spam instead of ok\n",
      "Text: WHEN THE FIRST STRIKE IS A RED ONE. THE BIRD + ANTELOPE BEGIN TOPLAY IN THE FIELDOF SELFINDEPENDENCE BELIEVE THIS + THE FLOWER OF CONTENTION WILL GROW.RANDOM! \n",
      "\n",
      "Mulitnomial error: classified spam instead of ok\n",
      "Text: No..its ful of song lyrics.. \n",
      "\n",
      "Mulitnomial error: classified ok instead of spam\n",
      "Text: How come it takes so little time for a child who is afraid of the dark to become a teenager who wants to stay out all night? \n",
      "\n",
      "Mulitnomial error: classified spam instead of ok\n",
      "Text: The new deus ex game comin early next yr \n",
      "\n",
      "Mulitnomial error: classified spam instead of ok\n",
      "Text: Nokia phone is lovly.. \n",
      "\n",
      "Bernoulli error: classified spam instead of ok\n",
      "Text: Customer place i will call you. \n",
      "\n",
      "Mulitnomial error: classified spam instead of ok\n",
      "Text: Ujhhhhhhh computer shipped out with address to sandiago and parantella lane. Wtf. Poop. \n",
      "\n",
      "Mulitnomial error: classified spam instead of ok\n",
      "Text: Gd luck 4 ur exams :-) \n",
      "\n",
      "Mulitnomial error: classified spam instead of ok\n",
      "Text: Mind blastin.. No more Tsunamis will occur from now on.. Rajnikant stopped swimming in Indian Ocean..:-D \n",
      "\n",
      "Mulitnomial error: classified spam instead of ok\n",
      "Text: Total video converter free download type this in google search:) \n",
      "\n",
      "Mulitnomial error: classified spam instead of ok\n",
      "Text: Your pussy is perfect! \n",
      "\n",
      "Mulitnomial error: classified spam instead of ok\n",
      "Text: Hahaha..use your brain dear \n",
      "\n",
      "Mulitnomial error: classified spam instead of ok\n",
      "Text: Dhoni have luck to win some big title.so we will win:) \n",
      "\n",
      "Mulitnomial error: classified spam instead of ok\n",
      "Text: Dear, will call Tmorrow.pls accomodate. \n",
      "\n",
      "Mulitnomial error: classified spam instead of ok\n",
      "Text: They have a thread on the wishlist section of the forums where ppl post nitro requests. Start from the last page and collect from the bottom up. \n",
      "\n",
      "Mulitnomial error: classified spam instead of ok\n",
      "Text: My mobile number.pls sms ur mail id.convey regards to achan,amma.Rakhesh.Qatar \n",
      "\n",
      "Mulitnomial error: classified spam instead of ok\n",
      "Text: Have you laid your airtel line to rest? \n",
      "\n",
      "Mulitnomial error: classified spam instead of ok\n",
      "Text: Garbage bags, eggs, jam, bread, hannaford wheat chex \n",
      "\n",
      "Bernoulli error: classified spam instead of ok\n",
      "Text: Yavnt tried yet and never played original either \n",
      "\n",
      "Mulitnomial error: classified spam instead of ok\n",
      "Text: Yavnt tried yet and never played original either \n",
      "\n",
      "Mulitnomial error: classified spam instead of ok\n",
      "Text: Double eviction this week - Spiral and Michael and good riddance to them! \n",
      "\n",
      "Bernoulli error: classified spam instead of ok\n",
      "Text: Are you free now?can i call now? \n",
      "\n",
      "Mulitnomial error: classified ok instead of spam\n",
      "Text: LIFE has never been this much fun and great until you came in. You made it truly special for me. I won't forget you! enjoy @ one gbp/sms \n",
      "\n",
      "Mulitnomial error: classified spam instead of ok\n",
      "Text: Update your face book status frequently :) \n",
      "\n",
      "Mulitnomial error: classified spam instead of ok\n",
      "Text: Im in inperialmusic listening2the weirdest track ever byåÓleafcutter johnåÓ-sounds like insects being molested&someone plumbing,remixed by evil men on acid! \n",
      "\n",
      "Mulitnomial error: classified spam instead of ok\n",
      "Text: Fighting with the world is easy, u either win or lose bt fightng with some1 who is close to u is dificult if u lose - u lose if u win - u still lose. \n",
      "\n",
      "Mulitnomial error: classified spam instead of ok\n",
      "Text: Nutter. Cutter. Ctter. Cttergg. Cttargg. Ctargg. Ctagg. ie you \n",
      "\n",
      "Mulitnomial error: classified spam instead of ok\n",
      "Text: Check mail.i have mailed varma and kept copy to you regarding membership.take care.insha allah. \n",
      "\n",
      "Mulitnomial error: classified spam instead of ok\n",
      "Text: Urgh, coach hot, smells of chip fat! Thanks again, especially for the duvet (not a predictive text word). \n",
      "\n",
      "Mulitnomial error: classified spam instead of ok\n",
      "Text: We have sent JD for Customer Service cum Accounts Executive to ur mail id, For details contact us \n",
      "\n"
     ]
    }
   ],
   "source": [
    "bern_correct = 0\n",
    "multi_correct = 0\n",
    "\n",
    "for i in range(n_tests):\n",
    "    y = Y[i]\n",
    "    \n",
    "    y_hat_bern, _ = NB_Bernoulli.predict(X[i])\n",
    "    y_hat_multi = NB_Multinomial.predict(X[i], smoothing=1, binomial=True)\n",
    "    \n",
    "    if y_hat_bern == y:\n",
    "        bern_correct += 1\n",
    "    else:\n",
    "        print(\"Bernoulli error: classified\", label[y_hat_bern], \"instead of\", label[y])\n",
    "        print(\"Text:\", X[i], \"\\n\")\n",
    "    if y_hat_multi == y:\n",
    "        multi_correct += 1\n",
    "    else:\n",
    "        print(\"Mulitnomial error: classified\", label[y_hat_multi], \"instead of\", label[y])\n",
    "        print(\"Text:\", X[i], \"\\n\")"
   ]
  },
  {
   "cell_type": "code",
   "execution_count": 124,
   "metadata": {},
   "outputs": [
    {
     "name": "stdout",
     "output_type": "stream",
     "text": [
      "Bernoulli accuracy: 0.9978471474703983\n",
      "Multinomial accuracy: 0.9827771797631862\n"
     ]
    }
   ],
   "source": [
    "print(\"Bernoulli accuracy:\", bern_correct / n_tests)\n",
    "print(\"Multinomial accuracy:\", multi_correct / n_tests)"
   ]
  },
  {
   "cell_type": "markdown",
   "metadata": {},
   "source": [
    "Binomial prediction indeed increases the performance of the MultinomialNB classifier! Now lets tune the smoothing parameter and show the misclassified samples."
   ]
  },
  {
   "cell_type": "code",
   "execution_count": 138,
   "metadata": {},
   "outputs": [
    {
     "name": "stdout",
     "output_type": "stream",
     "text": [
      "Mulitnomial error: classified ok instead of spam\n",
      "Text: Guess who am I?This is the first time I created a web page WWW.ASJESUS.COM read all I wrote. I'm waiting for your opinions. I want to be your friend 1/1 \n",
      "\n",
      "Bernoulli error: classified ok instead of spam\n",
      "Text: Hello darling how are you today? I would love to have a chat, why dont you tell me what you look like and what you are in to sexy? \n",
      "\n",
      "Mulitnomial error: classified ok instead of spam\n",
      "Text: Hello darling how are you today? I would love to have a chat, why dont you tell me what you look like and what you are in to sexy? \n",
      "\n",
      "Mulitnomial error: classified ok instead of spam\n",
      "Text: How come it takes so little time for a child who is afraid of the dark to become a teenager who wants to stay out all night? \n",
      "\n",
      "Mulitnomial error: classified spam instead of ok\n",
      "Text: Nokia phone is lovly.. \n",
      "\n",
      "Bernoulli error: classified spam instead of ok\n",
      "Text: Customer place i will call you. \n",
      "\n",
      "Bernoulli error: classified spam instead of ok\n",
      "Text: Yavnt tried yet and never played original either \n",
      "\n",
      "Mulitnomial error: classified spam instead of ok\n",
      "Text: Yavnt tried yet and never played original either \n",
      "\n",
      "Bernoulli error: classified spam instead of ok\n",
      "Text: Are you free now?can i call now? \n",
      "\n",
      "Mulitnomial error: classified ok instead of spam\n",
      "Text: LIFE has never been this much fun and great until you came in. You made it truly special for me. I won't forget you! enjoy @ one gbp/sms \n",
      "\n"
     ]
    }
   ],
   "source": [
    "bern_correct = 0\n",
    "multi_correct = 0\n",
    "\n",
    "label = [\"ok\", \"spam\"]\n",
    "\n",
    "for i in range(n_tests):\n",
    "    y = Y[i]\n",
    "    \n",
    "    y_hat_bern, _ = NB_Bernoulli.predict(X[i])\n",
    "    y_hat_multi = NB_Multinomial.predict(X[i], smoothing=0.1, binomial=True)\n",
    "    \n",
    "    if y_hat_bern == y:\n",
    "        bern_correct += 1\n",
    "    else:\n",
    "        print(\"Bernoulli error: classified\", label[y_hat_bern], \"instead of\", label[y])\n",
    "        print(\"Text:\", X[i], \"\\n\")\n",
    "    if y_hat_multi == y:\n",
    "        multi_correct += 1\n",
    "    else:\n",
    "        print(\"Mulitnomial error: classified\", label[y_hat_multi], \"instead of\", label[y])\n",
    "        print(\"Text:\", X[i], \"\\n\")"
   ]
  },
  {
   "cell_type": "code",
   "execution_count": 136,
   "metadata": {},
   "outputs": [
    {
     "name": "stdout",
     "output_type": "stream",
     "text": [
      "Bernoulli accuracy: 0.9978471474703983\n",
      "Multinomial accuracy: 0.9967707212055974\n"
     ]
    }
   ],
   "source": [
    "print(\"Bernoulli accuracy:\", bern_correct / n_tests)\n",
    "print(\"Multinomial accuracy:\", multi_correct / n_tests)"
   ]
  },
  {
   "cell_type": "markdown",
   "metadata": {},
   "source": [
    "As the smoothing parameter approaches 0, both classifiers achieve the same accuracy. This is, as one can see in the misclassified examples, probably close to bayes error-rate. One can even see that there are texts which the BernoulliNB classifier misclassifies, but the MultinomialNB doesn't! This suggests that the Multinomial algorithm is not strictly underperforming."
   ]
  }
 ],
 "metadata": {
  "kernelspec": {
   "display_name": "Python 3",
   "language": "python",
   "name": "python3"
  },
  "language_info": {
   "codemirror_mode": {
    "name": "ipython",
    "version": 3
   },
   "file_extension": ".py",
   "mimetype": "text/x-python",
   "name": "python",
   "nbconvert_exporter": "python",
   "pygments_lexer": "ipython3",
   "version": "3.6.4"
  }
 },
 "nbformat": 4,
 "nbformat_minor": 2
}
