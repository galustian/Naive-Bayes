{
 "cells": [
  {
   "cell_type": "markdown",
   "metadata": {},
   "source": [
    "# Bernoulli vs Multinomial random variables?\n",
    "This Notebook compares bernoulli and multinomial Naive Bayes classifiers in terms of their prediction accuracy when it comes to text-classification.\n",
    "The MultinomialNB algorithm implements my own binomial-prediction algorithm, which improves the prediction accuracy as we shall see...\n",
    "\n",
    "An SMS spam dataset is going to be used for classification & prediction."
   ]
  },
  {
   "cell_type": "code",
   "execution_count": 64,
   "metadata": {},
   "outputs": [],
   "source": [
    "import numpy as np\n",
    "import pandas as pd\n",
    "from BernoulliNB import BernoulliNB\n",
    "from MultinomialNB import MultinomialNB\n",
    "# compare custom algorithm to sklearn's\n",
    "from sklearn.naive_bayes import MultinomialNB as MultinomialSkl\n",
    "from sklearn.feature_extraction.text import CountVectorizer\n",
    "from sklearn.feature_extraction.text import TfidfTransformer"
   ]
  },
  {
   "cell_type": "markdown",
   "metadata": {},
   "source": [
    "## Load data"
   ]
  },
  {
   "cell_type": "code",
   "execution_count": 4,
   "metadata": {},
   "outputs": [],
   "source": [
    "df = pd.read_csv('spam.csv', encoding='ISO-8859-1')\n",
    "df = df.loc[:, ['v1', 'v2']].sample(frac=1)\n",
    "df['v1'] = df['v1'].map({'ham': 0, 'spam': 1})"
   ]
  },
  {
   "cell_type": "code",
   "execution_count": 5,
   "metadata": {},
   "outputs": [
    {
     "data": {
      "text/html": [
       "<div>\n",
       "<style scoped>\n",
       "    .dataframe tbody tr th:only-of-type {\n",
       "        vertical-align: middle;\n",
       "    }\n",
       "\n",
       "    .dataframe tbody tr th {\n",
       "        vertical-align: top;\n",
       "    }\n",
       "\n",
       "    .dataframe thead th {\n",
       "        text-align: right;\n",
       "    }\n",
       "</style>\n",
       "<table border=\"1\" class=\"dataframe\">\n",
       "  <thead>\n",
       "    <tr style=\"text-align: right;\">\n",
       "      <th></th>\n",
       "      <th>v1</th>\n",
       "      <th>v2</th>\n",
       "    </tr>\n",
       "  </thead>\n",
       "  <tbody>\n",
       "    <tr>\n",
       "      <th>1225</th>\n",
       "      <td>0</td>\n",
       "      <td>sir, you will receive the account no another 1...</td>\n",
       "    </tr>\n",
       "    <tr>\n",
       "      <th>5036</th>\n",
       "      <td>0</td>\n",
       "      <td>(You didn't hear it from me)</td>\n",
       "    </tr>\n",
       "    <tr>\n",
       "      <th>3030</th>\n",
       "      <td>0</td>\n",
       "      <td>gonna let me know cos comes bak from holiday ...</td>\n",
       "    </tr>\n",
       "    <tr>\n",
       "      <th>4385</th>\n",
       "      <td>0</td>\n",
       "      <td>, im .. On the snowboarding trip. I was wonder...</td>\n",
       "    </tr>\n",
       "    <tr>\n",
       "      <th>2655</th>\n",
       "      <td>0</td>\n",
       "      <td>Great! I have to run now so ttyl!</td>\n",
       "    </tr>\n",
       "  </tbody>\n",
       "</table>\n",
       "</div>"
      ],
      "text/plain": [
       "      v1                                                 v2\n",
       "1225   0  sir, you will receive the account no another 1...\n",
       "5036   0                       (You didn't hear it from me)\n",
       "3030   0   gonna let me know cos comes bak from holiday ...\n",
       "4385   0  , im .. On the snowboarding trip. I was wonder...\n",
       "2655   0                  Great! I have to run now so ttyl!"
      ]
     },
     "execution_count": 5,
     "metadata": {},
     "output_type": "execute_result"
    }
   ],
   "source": [
    "df.head()"
   ]
  },
  {
   "cell_type": "markdown",
   "metadata": {},
   "source": [
    "## Create train-test splits"
   ]
  },
  {
   "cell_type": "code",
   "execution_count": 6,
   "metadata": {},
   "outputs": [],
   "source": [
    "X = []\n",
    "Y = []\n",
    "for _, row in df.iterrows():\n",
    "    X.append(row['v2'])\n",
    "    Y.append(row['v1'])\n",
    "Y = np.array(Y)"
   ]
  },
  {
   "cell_type": "code",
   "execution_count": 7,
   "metadata": {},
   "outputs": [],
   "source": [
    "total_samples = len(df)\n",
    "\n",
    "train_size = 2/3\n",
    "num_train = int(len(X)*train_size)\n",
    "\n",
    "X_train, X_test = X[:num_train], X[num_train:]\n",
    "Y_train, Y_test = Y[:num_train], Y[num_train:]"
   ]
  },
  {
   "cell_type": "markdown",
   "metadata": {},
   "source": [
    "## Train classifiers"
   ]
  },
  {
   "cell_type": "code",
   "execution_count": 75,
   "metadata": {},
   "outputs": [],
   "source": [
    "NB_Bernoulli = BernoulliNB()\n",
    "NB_Multinomial = MultinomialNB()\n",
    "NB_Multinomial_Skl = MultinomialSkl()\n",
    "\n",
    "NB_Bernoulli.train(X_train, Y_train, text_data=True)\n",
    "NB_Multinomial.train(X_train, Y_train, text_data=True)\n",
    "\n",
    "# transform data & fit sklearn classifier\n",
    "count_vect = CountVectorizer()\n",
    "X_train_counts = count_vect.fit_transform(X_train)\n",
    "\n",
    "tfidf_transformer = TfidfTransformer()\n",
    "X_train_tfidf = tfidf_transformer.fit_transform(X_train_counts)\n",
    "\n",
    "clf = NB_Multinomial_Skl.fit(X_train_tfidf, Y_train)"
   ]
  },
  {
   "cell_type": "markdown",
   "metadata": {},
   "source": [
    "## Test custom classifiers"
   ]
  },
  {
   "cell_type": "code",
   "execution_count": 16,
   "metadata": {},
   "outputs": [],
   "source": [
    "n_tests = len(X_test)\n",
    "\n",
    "bern_correct = 0\n",
    "multi_correct = 0\n",
    "\n",
    "label = [\"ok\", \"spam\"]\n",
    "\n",
    "for i in range(n_tests):\n",
    "    y = Y[i]\n",
    "    \n",
    "    y_hat_bern, _ = NB_Bernoulli.predict(X[i])\n",
    "    y_hat_multi = NB_Multinomial.predict(X[i])\n",
    "    \n",
    "    if y_hat_bern == y:\n",
    "        bern_correct += 1\n",
    "    if y_hat_multi == y:\n",
    "        multi_correct += 1"
   ]
  },
  {
   "cell_type": "code",
   "execution_count": 17,
   "metadata": {},
   "outputs": [
    {
     "name": "stdout",
     "output_type": "stream",
     "text": [
      "Bernoulli accuracy: 0.9978471474703983\n",
      "Multinomial accuracy: 0.9698600645855759\n"
     ]
    }
   ],
   "source": [
    "print(\"Bernoulli accuracy:\", bern_correct / n_tests)\n",
    "print(\"Multinomial accuracy:\", multi_correct / n_tests)"
   ]
  },
  {
   "cell_type": "markdown",
   "metadata": {},
   "source": [
    "Both assumptions of bernoulli- and multinomial random variables yield very accurate prediction results. The BernoulliNB classifiers outperforms the MultinomialNB classifier by a slight margin.\n",
    "\n",
    "Now lets switch on binomial-prediction and change the smoothing parameter, which defaults to 1 (Laplace-Smoothing) and see if this affects the prediction accuracy of the MultinomialNB classifier."
   ]
  },
  {
   "cell_type": "code",
   "execution_count": 76,
   "metadata": {},
   "outputs": [],
   "source": [
    "bern_correct = 0\n",
    "multi_correct = 0\n",
    "\n",
    "for i in range(n_tests):\n",
    "    y = Y[i]\n",
    "    \n",
    "    y_hat_bern, _ = NB_Bernoulli.predict(X[i])\n",
    "    y_hat_multi = NB_Multinomial.predict(X[i], smoothing=1, binomial=True)\n",
    "    \n",
    "    if y_hat_bern == y:\n",
    "        bern_correct += 1\n",
    "    #else:\n",
    "    #    print(\"Bernoulli error: classified\", label[y_hat_bern], \"instead of\", label[y])\n",
    "    #    print(\"Text:\", X[i], \"\\n\")\n",
    "    if y_hat_multi == y:\n",
    "        multi_correct += 1\n",
    "    #else:\n",
    "    #    print(\"Mulitnomial error: classified\", label[y_hat_multi], \"instead of\", label[y])\n",
    "    #    print(\"Text:\", X[i], \"\\n\")"
   ]
  },
  {
   "cell_type": "code",
   "execution_count": 77,
   "metadata": {},
   "outputs": [
    {
     "name": "stdout",
     "output_type": "stream",
     "text": [
      "Bernoulli accuracy: 0.9978471474703983\n",
      "Multinomial accuracy: 0.9741657696447793\n"
     ]
    }
   ],
   "source": [
    "print(\"Bernoulli accuracy:\", bern_correct / n_tests)\n",
    "print(\"Multinomial accuracy:\", multi_correct / n_tests)"
   ]
  },
  {
   "cell_type": "markdown",
   "metadata": {},
   "source": [
    "Binomial prediction indeed increases the performance of the MultinomialNB classifier! \n",
    "\n",
    "Now lets tune the smoothing parameter and compare the accuracy of the custom algorithm with binomial-prediction to the sklearn algorithm."
   ]
  },
  {
   "cell_type": "code",
   "execution_count": 78,
   "metadata": {},
   "outputs": [
    {
     "name": "stdout",
     "output_type": "stream",
     "text": [
      "Mulitnomial error: classified spam instead of ok\n",
      "Text: Have you laid your airtel line to rest? \n",
      "\n",
      "Bernoulli error: classified spam instead of ok\n",
      "Text: Customer place i will call you. \n",
      "\n",
      "Bernoulli error: classified spam instead of ok\n",
      "Text: Have you heard from this week? \n",
      "\n",
      "Mulitnomial error: classified spam instead of ok\n",
      "Text: Unlimited texts. Limited minutes. \n",
      "\n",
      "Bernoulli error: classified spam instead of ok\n",
      "Text: Are you free now?can i call now? \n",
      "\n",
      "Bernoulli error: classified spam instead of ok\n",
      "Text: what is your account number? \n",
      "\n"
     ]
    }
   ],
   "source": [
    "bern_correct = 0\n",
    "multi_correct = 0\n",
    "multi_skl_correct = 0\n",
    "\n",
    "label = [\"ok\", \"spam\"]\n",
    "\n",
    "# sklearn prediction\n",
    "X_test_counts = count_vect.transform(X_test)\n",
    "X_test_tfidf = tfidf_transformer.transform(X_test_counts)\n",
    "\n",
    "y_hat_skl = clf.predict(X_test_tfidf)\n",
    "\n",
    "for i in range(n_tests):\n",
    "    y = Y[i]\n",
    "    \n",
    "    y_hat_bern, _ = NB_Bernoulli.predict(X[i])\n",
    "    y_hat_multi = NB_Multinomial.predict(X[i], smoothing=0.1, binomial=True)\n",
    "    \n",
    "    if y_hat_bern == y:\n",
    "        bern_correct += 1\n",
    "    else:\n",
    "        print(\"Bernoulli error: classified\", label[y_hat_bern], \"instead of\", label[y])\n",
    "        print(\"Text:\", X[i], \"\\n\")\n",
    "    if y_hat_multi == y:\n",
    "        multi_correct += 1\n",
    "    else:\n",
    "        print(\"Mulitnomial error: classified\", label[y_hat_multi], \"instead of\", label[y])\n",
    "        print(\"Text:\", X[i], \"\\n\")\n",
    "    \n",
    "    if y_hat_skl[i] == y:\n",
    "        multi_skl_correct += 1"
   ]
  },
  {
   "cell_type": "code",
   "execution_count": 80,
   "metadata": {},
   "outputs": [
    {
     "name": "stdout",
     "output_type": "stream",
     "text": [
      "Bernoulli accuracy: 0.9978471474703983\n",
      "Multinomial accuracy: 0.9989235737351991\n",
      "Multinomial Sklearn accuracy: 0.7976318622174381\n"
     ]
    }
   ],
   "source": [
    "print(\"Bernoulli accuracy:\", bern_correct / n_tests)\n",
    "print(\"Multinomial accuracy:\", multi_correct / n_tests)\n",
    "print(\"Multinomial Sklearn accuracy:\", multi_skl_correct / n_tests)"
   ]
  },
  {
   "cell_type": "markdown",
   "metadata": {},
   "source": [
    "As the smoothing parameter approaches 0, both classifiers achieve about the same accuracy. This is as one can see in the misclassified examples probably close to bayes error-rate. One can see that there are texts which the BernoulliNB classifier misclassifies, but the MultinomialNB doesn't and vice versa."
   ]
  }
 ],
 "metadata": {
  "kernelspec": {
   "display_name": "Python 3",
   "language": "python",
   "name": "python3"
  },
  "language_info": {
   "codemirror_mode": {
    "name": "ipython",
    "version": 3
   },
   "file_extension": ".py",
   "mimetype": "text/x-python",
   "name": "python",
   "nbconvert_exporter": "python",
   "pygments_lexer": "ipython3",
   "version": "3.6.4"
  }
 },
 "nbformat": 4,
 "nbformat_minor": 2
}
